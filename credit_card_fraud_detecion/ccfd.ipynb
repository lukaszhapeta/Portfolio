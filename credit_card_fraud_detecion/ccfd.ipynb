{
 "cells": [
  {
   "cell_type": "markdown",
   "id": "48c37f4f",
   "metadata": {},
   "source": [
    "# Preliminary Information\n",
    "\n",
    "The aim is to analyze a dataset containing credit card transactions and develop a model that minimizes errors.\n",
    "\n",
    "\n",
    "Confusion matrix (order based on the sklearn library):\n",
    "\n",
    "$$\n",
    "\\begin{bmatrix}\n",
    "    \\text{TN} & \\text{FP} \\\\\n",
    "    \\text{FN} & \\text{TP}\n",
    "\\end{bmatrix}\n",
    "$$\n",
    "\n",
    "where::\n",
    "- TN - true negative, which is class 0 correctly predicted as class 0\n",
    "- FP - false positive, which is class 0 incorrectly predicted as class 1\n",
    "- FN - false negative, which is class 1 incorrectly predicted as class 0\n",
    "- TP - true positive, which is class 1 correctly predicted as class 1\n",
    "\n",
    "(Here, note that class 1 represents fraud, and class 0 represents a legitimate transaction)\n",
    "\n",
    "The goal is to minimize mistakes."
   ]
  },
  {
   "cell_type": "markdown",
   "id": "d3e8dd98",
   "metadata": {},
   "source": [
    "# Loading libraries, data, and custom functions"
   ]
  },
  {
   "cell_type": "markdown",
   "id": "b0c52bad",
   "metadata": {},
   "source": [
    "Loading libraries"
   ]
  },
  {
   "cell_type": "code",
   "execution_count": 1,
   "id": "14693e3b",
   "metadata": {},
   "outputs": [],
   "source": [
    "# Essentials\n",
    "import time \n",
    "import numpy as np\n",
    "import pandas as pd\n",
    "\n",
    "# Docker connection\n",
    "import sqlalchemy\n",
    "from urllib.parse import quote_plus\n",
    "\n",
    "# Plots\n",
    "import plotly.express as px\n",
    "import matplotlib.pyplot as plt\n",
    "import plotly.graph_objects as go\n",
    "from matplotlib.colors import ListedColormap\n",
    "\n",
    "# Models\n",
    "import statsmodels.api as sm \n",
    "from sklearn import metrics\n",
    "from sklearn.ensemble import RandomForestClassifier\n",
    "from sklearn.model_selection import train_test_split"
   ]
  },
  {
   "cell_type": "markdown",
   "id": "4e086a73",
   "metadata": {},
   "source": [
    "Data loading"
   ]
  },
  {
   "cell_type": "code",
   "execution_count": 2,
   "id": "e4dc1b59",
   "metadata": {},
   "outputs": [],
   "source": [
    "card_fraud = pd.read_csv(\"csv_files/creditcard.csv\", delimiter = \",\")"
   ]
  },
  {
   "cell_type": "markdown",
   "id": "0c544dc3",
   "metadata": {},
   "source": [
    "Custom functions loading"
   ]
  },
  {
   "cell_type": "code",
   "execution_count": 3,
   "id": "be3b29ab",
   "metadata": {},
   "outputs": [],
   "source": [
    "# ROC Curve\n",
    "\n",
    "def plot_roc(y_test, predictions):\n",
    "    fig, ax = plt.subplots()\n",
    "    fpr, tpr, thresholds = metrics.roc_curve(y_test, predictions)\n",
    "    roc_auc = metrics.auc(fpr, tpr)\n",
    "    ax.plot(fpr, tpr, label='ROC curve (AUC = {:.2f})'.format(roc_auc))\n",
    "    ax.set_xlabel('Specificity')\n",
    "    ax.set_ylabel('Sensitivity')\n",
    "    ax.plot([0, 1], [0, 1], linestyle='--', label='Random classifier', linewidth = 1)\n",
    "    ax.legend(loc='lower right', fontsize='small', frameon=True)\n",
    "    return fpr, tpr, thresholds\n",
    "    \n",
    "# Function to find the threshold for the minimum sum of errors\n",
    "\n",
    "def find_threshold_errors(thresholds, model):\n",
    "    best_threshold = min(thresholds)\n",
    "    assigned_classes = [0 if element < best_threshold else 1 for element in model.predict(x_test).to_numpy()]\n",
    "    tn, fp, fn, tp = metrics.confusion_matrix(y_test, assigned_classes).ravel()\n",
    "    smallest_sum_of_errors = fp + fn\n",
    "    for threshold in thresholds:\n",
    "        assigned_classes = [0 if element < threshold else 1 for element in model.predict(x_test).to_numpy()]\n",
    "        tn, fp, fn, tp = metrics.confusion_matrix(y_test, assigned_classes).ravel()\n",
    "        current_sum_of_errors = fp + fn\n",
    "        if current_sum_of_errors < smallest_sum_of_errors:\n",
    "            smallest_sum_of_errors = current_sum_of_errors\n",
    "            best_threshold = threshold\n",
    "\n",
    "    print(\"Best threshold for the smallest sum of errors:\", round(best_threshold, 3))\n",
    "    \n",
    "# Function to find the threshold for the best precision\n",
    "\n",
    "def find_threshold_precision(thresholds, model):\n",
    "    best_threshold = min(thresholds)\n",
    "    assigned_classes = [0 if element < best_threshold else 1 for element in model.predict(x_test).to_numpy()]\n",
    "    best_precision = metrics.precision_score(y_test, assigned_classes, zero_division=np.nan)\n",
    "    for threshold in thresholds:\n",
    "        assigned_classes = [0 if element < threshold else 1 for element in model.predict(x_test).to_numpy()]\n",
    "        current_precision = metrics.precision_score(y_test, assigned_classes, zero_division=np.nan)\n",
    "        if current_precision > best_precision:\n",
    "            best_precision = current_precision\n",
    "            best_threshold = threshold\n",
    "\n",
    "    print(\"Best threshold for the best precision:\", round(best_threshold, 3))\n",
    "\n",
    "# Confusion matrix with details    \n",
    "    \n",
    "def plot_matrix(y_test, predictions):\n",
    "    cm = metrics.confusion_matrix(y_test, predictions)\n",
    "    cm_display = metrics.ConfusionMatrixDisplay(confusion_matrix=cm, display_labels=None)\n",
    "    conf_matrix = cm\n",
    "    total = sum(conf_matrix.ravel())\n",
    "    tn, fp, fn, tp = conf_matrix.ravel()\n",
    "    accuracy = (tn + tp) / total\n",
    "    precision = tp / (tp + fp)\n",
    "    recall = tp / (tp + fn)\n",
    "    specificity = tn / (tn + fp)\n",
    "    f1_score = 2 * (precision * recall) / (precision + recall)\n",
    "\n",
    "    print(\"Sum of errors (FP + FN):\", fp + fn)\n",
    "    print(\"Accuracy:\", round(accuracy, 3))\n",
    "    print(\"Precision:\", round(precision, 3))\n",
    "    print(\"Recall:\", round(recall, 3))\n",
    "    print(\"Specificity:\", round(specificity, 3))\n",
    "    print(\"F1 Score:\", round(f1_score, 3))\n",
    "\n",
    "    fig, ax_1 = plt.subplots()\n",
    "    cm_display.plot(colorbar=False, ax=ax_1, values_format='.0f', cmap = 'magma')\n",
    "    cm_display.figure_ = fig\n",
    "    plt.show()"
   ]
  },
  {
   "cell_type": "markdown",
   "id": "9190e799",
   "metadata": {},
   "source": [
    "# Data splitting"
   ]
  },
  {
   "cell_type": "markdown",
   "id": "0ad6acdc",
   "metadata": {},
   "source": [
    " - x - explanatory variables\n",
    " - y - response variable"
   ]
  },
  {
   "cell_type": "code",
   "execution_count": 4,
   "id": "f131ab1a",
   "metadata": {},
   "outputs": [],
   "source": [
    "x = card_fraud.iloc[:, :-1]\n",
    "y = card_fraud.iloc[:, -1]"
   ]
  },
  {
   "cell_type": "code",
   "execution_count": 5,
   "id": "a896fd22",
   "metadata": {},
   "outputs": [
    {
     "data": {
      "text/plain": [
       "(   Time        V1        V2        V3        V4        V5        V6        V7  \\\n",
       " 0   0.0 -1.359807 -0.072781  2.536347  1.378155 -0.338321  0.462388  0.239599   \n",
       " 1   0.0  1.191857  0.266151  0.166480  0.448154  0.060018 -0.082361 -0.078803   \n",
       " 2   1.0 -1.358354 -1.340163  1.773209  0.379780 -0.503198  1.800499  0.791461   \n",
       " 3   1.0 -0.966272 -0.185226  1.792993 -0.863291 -0.010309  1.247203  0.237609   \n",
       " 4   2.0 -1.158233  0.877737  1.548718  0.403034 -0.407193  0.095921  0.592941   \n",
       " \n",
       "          V8        V9  ...       V20       V21       V22       V23       V24  \\\n",
       " 0  0.098698  0.363787  ...  0.251412 -0.018307  0.277838 -0.110474  0.066928   \n",
       " 1  0.085102 -0.255425  ... -0.069083 -0.225775 -0.638672  0.101288 -0.339846   \n",
       " 2  0.247676 -1.514654  ...  0.524980  0.247998  0.771679  0.909412 -0.689281   \n",
       " 3  0.377436 -1.387024  ... -0.208038 -0.108300  0.005274 -0.190321 -1.175575   \n",
       " 4 -0.270533  0.817739  ...  0.408542 -0.009431  0.798278 -0.137458  0.141267   \n",
       " \n",
       "         V25       V26       V27       V28  Amount  \n",
       " 0  0.128539 -0.189115  0.133558 -0.021053  149.62  \n",
       " 1  0.167170  0.125895 -0.008983  0.014724    2.69  \n",
       " 2 -0.327642 -0.139097 -0.055353 -0.059752  378.66  \n",
       " 3  0.647376 -0.221929  0.062723  0.061458  123.50  \n",
       " 4 -0.206010  0.502292  0.219422  0.215153   69.99  \n",
       " \n",
       " [5 rows x 30 columns],\n",
       " 0    0\n",
       " 1    0\n",
       " 2    0\n",
       " 3    0\n",
       " 4    0\n",
       " Name: Class, dtype: int64)"
      ]
     },
     "execution_count": 5,
     "metadata": {},
     "output_type": "execute_result"
    }
   ],
   "source": [
    "x.head(5), y.head(5)"
   ]
  },
  {
   "cell_type": "markdown",
   "id": "486c938b",
   "metadata": {},
   "source": [
    "Splitting data into training and testing sets"
   ]
  },
  {
   "cell_type": "code",
   "execution_count": 6,
   "id": "1eaa14f1",
   "metadata": {},
   "outputs": [],
   "source": [
    "x_train, x_test, y_train, y_test = train_test_split(x,y, stratify = y, test_size = 0.25, random_state = 42)"
   ]
  },
  {
   "cell_type": "code",
   "execution_count": 7,
   "id": "e078023c",
   "metadata": {},
   "outputs": [
    {
     "name": "stdout",
     "output_type": "stream",
     "text": [
      "Sum of rows in the dataset: 284807\n",
      "Sum of frauds in the dataset: 492\n",
      "Number of rows in the training set: 213605\n",
      "Number of rows in the testing set: 71202\n",
      "Number of frauds in the training set: 369\n",
      "Number of frauds in the testing set: 123\n",
      "Percentage of frauds in the dataset: 0.17%\n"
     ]
    }
   ],
   "source": [
    "print(\"Sum of rows in the dataset: {}\".format(len(card_fraud)))\n",
    "print(\"Sum of frauds in the dataset: {}\".format(sum(y_test) + sum(y_train)))\n",
    "print(\"Number of rows in the training set: {}\".format(len(x_train)))\n",
    "print(\"Number of rows in the testing set: {}\".format(len(x_test)))\n",
    "print(\"Number of frauds in the training set: {}\".format(sum(y_train)))\n",
    "print(\"Number of frauds in the testing set: {}\".format(sum(y_test)))\n",
    "print(\"Percentage of frauds in the dataset: {}%\".format(round(100*(sum(card_fraud.iloc[:, -1]))/len(card_fraud), 2)))"
   ]
  },
  {
   "cell_type": "markdown",
   "id": "c6602899",
   "metadata": {},
   "source": [
    "## Histogram with Class Division\n",
    "\n",
    "A significant class imbalance is observed."
   ]
  },
  {
   "cell_type": "code",
   "execution_count": 8,
   "id": "98e13077",
   "metadata": {},
   "outputs": [
    {
     "data": {
      "image/png": "[encoded data removed]",
      "text/plain": [
       "<Figure size 640x480 with 1 Axes>"
      ]
     },
     "metadata": {},
     "output_type": "display_data"
    }
   ],
   "source": [
    "fig, ax = plt.subplots()\n",
    "\n",
    "bars = plt.bar([0, 1], [len(y[y == 0]), len(y[y == 1])])\n",
    "plt.xticks([0, 1], ['Class 0', 'Class 1'])\n",
    "\n",
    "for bar in bars:\n",
    "    bar.set_edgecolor('black')\n",
    "\n",
    "# Show the plot\n",
    "plt.show()"
   ]
  },
  {
   "cell_type": "markdown",
   "id": "43e8d76f",
   "metadata": {},
   "source": [
    "# Logistic regression"
   ]
  },
  {
   "cell_type": "code",
   "execution_count": 9,
   "id": "297dbfbe",
   "metadata": {},
   "outputs": [
    {
     "name": "stdout",
     "output_type": "stream",
     "text": [
      "Optimization terminated successfully.\n",
      "         Current function value: 0.009723\n",
      "         Iterations 15\n"
     ]
    }
   ],
   "source": [
    "model = sm.Logit(y_train, x_train).fit()"
   ]
  },
  {
   "cell_type": "code",
   "execution_count": 10,
   "id": "623b498a",
   "metadata": {},
   "outputs": [],
   "source": [
    "predictions = model.predict(x_test)"
   ]
  },
  {
   "cell_type": "markdown",
   "id": "5f0be079",
   "metadata": {},
   "source": [
    "## ROC curve"
   ]
  },
  {
   "cell_type": "code",
   "execution_count": 11,
   "id": "e435483f",
   "metadata": {
    "scrolled": false
   },
   "outputs": [
    {
     "data": {
      "image/png": "[encoded data removed]",
      "text/plain": [
       "<Figure size 640x480 with 1 Axes>"
      ]
     },
     "metadata": {},
     "output_type": "display_data"
    }
   ],
   "source": [
    "fpr, tpr, thresholds = plot_roc(y_test, predictions)"
   ]
  },
  {
   "cell_type": "markdown",
   "id": "c951bf4c",
   "metadata": {},
   "source": [
    "AUC = 0.91 means, that the model has very good discrimination capabilities."
   ]
  },
  {
   "cell_type": "markdown",
   "id": "acc31087",
   "metadata": {},
   "source": [
    "Let's try to find optimal threshold. The closest to the point (0,1)"
   ]
  },
  {
   "cell_type": "code",
   "execution_count": 12,
   "id": "b907f451",
   "metadata": {},
   "outputs": [
    {
     "name": "stdout",
     "output_type": "stream",
     "text": [
      "Classification threshold value: 0.026\n",
      "Point (x, y) on the ROC curve: (0.016, 0.78)\n"
     ]
    }
   ],
   "source": [
    "optimal_index = np.argmax(tpr - fpr)\n",
    "optimal_threshold = thresholds[optimal_index]\n",
    "fpr_val = round(fpr[optimal_index], 3)\n",
    "tpr_val = round(tpr[optimal_index], 3)\n",
    "print(\"Classification threshold value:\", round(optimal_threshold, 3))\n",
    "print(\"Point (x, y) on the ROC curve: ({}, {})\".format(fpr_val, tpr_val))"
   ]
  },
  {
   "cell_type": "markdown",
   "id": "ef544087",
   "metadata": {},
   "source": [
    "I copied above, to show it in the ROC Curve plot below"
   ]
  },
  {
   "cell_type": "code",
   "execution_count": 13,
   "id": "85604da2",
   "metadata": {},
   "outputs": [],
   "source": [
    "def plot_roc_2(y_test, predictions):\n",
    "    fig, ax = plt.subplots()\n",
    "    fpr, tpr, thresholds = metrics.roc_curve(y_test, predictions)\n",
    "    roc_auc = metrics.auc(fpr, tpr)\n",
    "    ax.plot(fpr, tpr, label='ROC curve (AUC = {:.2f})'.format(roc_auc))\n",
    "    ax.set_xlabel('Specificity')\n",
    "    ax.set_ylabel('Sensitivity')\n",
    "    ax.plot([0, 1], [0, 1], linestyle='--', label='Random classifier', linewidth=1)\n",
    "    \n",
    "    # Adding a line\n",
    "    ax.plot([0, 0.016], [1, 0.78], linestyle='--', label='Shortest distance to point (0,1)', linewidth=1)\n",
    "    ax.text(0.05, 0.75, 'Classification threshold = 0.026', fontsize='small', ha='left', va='bottom')\n",
    "\n",
    "    ax.legend(loc='lower right', fontsize='small', frameon=True)\n",
    "    plt.show()\n",
    "    return fpr, tpr, thresholds"
   ]
  },
  {
   "cell_type": "code",
   "execution_count": 14,
   "id": "104cdaca",
   "metadata": {},
   "outputs": [
    {
     "data": {
      "image/png": "[encoded data removed]",
      "text/plain": [
       "<Figure size 640x480 with 1 Axes>"
      ]
     },
     "metadata": {},
     "output_type": "display_data"
    }
   ],
   "source": [
    "fpr, tpr, thresholds = plot_roc_2(y_test, predictions)"
   ]
  },
  {
   "cell_type": "markdown",
   "id": "2b941d38",
   "metadata": {},
   "source": [
    "Confusion matrix for threshold above"
   ]
  },
  {
   "cell_type": "code",
   "execution_count": 15,
   "id": "c449da79",
   "metadata": {},
   "outputs": [
    {
     "name": "stdout",
     "output_type": "stream",
     "text": [
      "Sum of errors (FP + FN): 1172\n",
      "Accuracy: 0.984\n",
      "Precision: 0.077\n",
      "Recall: 0.772\n",
      "Specificity: 0.984\n",
      "F1 Score: 0.14\n"
     ]
    },
    {
     "data": {
      "image/png": "[encoded data removed]",
      "text/plain": [
       "<Figure size 640x480 with 1 Axes>"
      ]
     },
     "metadata": {},
     "output_type": "display_data"
    }
   ],
   "source": [
    "threshold_0 = 0.026\n",
    "predictions_0 = [0 if element < threshold_0 else 1 for element in model.predict(x_test)]\n",
    "plot_matrix(y_test, predictions_0)"
   ]
  },
  {
   "cell_type": "markdown",
   "id": "260201af",
   "metadata": {},
   "source": [
    "There is a lot of FP, let's try with default threshold 0.5."
   ]
  },
  {
   "cell_type": "markdown",
   "id": "00be1dda",
   "metadata": {},
   "source": [
    "## Model 1\n",
    "\n",
    "Threshold = 0.5"
   ]
  },
  {
   "cell_type": "code",
   "execution_count": 16,
   "id": "d54565bd",
   "metadata": {},
   "outputs": [
    {
     "name": "stdout",
     "output_type": "stream",
     "text": [
      "Sum of errors (FP + FN): 83\n",
      "Accuracy: 0.999\n",
      "Precision: 0.675\n",
      "Recall: 0.626\n",
      "Specificity: 0.999\n",
      "F1 Score: 0.65\n"
     ]
    },
    {
     "data": {
      "image/png": "[encoded data removed]",
      "text/plain": [
       "<Figure size 640x480 with 1 Axes>"
      ]
     },
     "metadata": {},
     "output_type": "display_data"
    }
   ],
   "source": [
    "threshold_1 = 0.5\n",
    "predictions_1 = [0 if element < threshold_1 else 1 for element in model.predict(x_test)]\n",
    "plot_matrix(y_test, predictions_1)"
   ]
  },
  {
   "cell_type": "markdown",
   "id": "c71b9cd9",
   "metadata": {},
   "source": [
    "Sum of errors is over 1000 less than before, but there's more FN values. Let's try to minimalise the number of FN values, by maximalizing precision."
   ]
  },
  {
   "cell_type": "markdown",
   "id": "fb55a5a6",
   "metadata": {},
   "source": [
    "## Model 2\n",
    "\n",
    "\n",
    "From the function for optimizing the classification threshold (based on the best precision), the following result is obtained:"
   ]
  },
  {
   "cell_type": "code",
   "execution_count": 17,
   "id": "b50beda4",
   "metadata": {},
   "outputs": [
    {
     "name": "stdout",
     "output_type": "stream",
     "text": [
      "Best threshold for the best precision: 0.97\n"
     ]
    }
   ],
   "source": [
    "find_threshold_precision(np.arange(0.00, 1.01, 0.01), model)"
   ]
  },
  {
   "cell_type": "code",
   "execution_count": 18,
   "id": "c3e3de80",
   "metadata": {},
   "outputs": [
    {
     "name": "stdout",
     "output_type": "stream",
     "text": [
      "Sum of errors (FP + FN): 76\n",
      "Accuracy: 0.999\n",
      "Precision: 0.822\n",
      "Recall: 0.488\n",
      "Specificity: 1.0\n",
      "F1 Score: 0.612\n"
     ]
    },
    {
     "data": {
      "image/png": "[encoded data removed]",
      "text/plain": [
       "<Figure size 640x480 with 1 Axes>"
      ]
     },
     "metadata": {},
     "output_type": "display_data"
    }
   ],
   "source": [
    "threshold_2 = 0.97\n",
    "predictions_2 = [0 if element < threshold_2 else 1 for element in model.predict(x_test)]\n",
    "plot_matrix(y_test, predictions_2)"
   ]
  },
  {
   "cell_type": "markdown",
   "id": "6c491112",
   "metadata": {},
   "source": [
    "The sum of errors is lower, but the values of false negatives (FN) have increased. This could be due to the specificity of the data."
   ]
  },
  {
   "cell_type": "markdown",
   "id": "8719e2d9",
   "metadata": {},
   "source": [
    "## Model 3\n",
    "\n",
    "The previous step will be repeated, but a different threshold optimization function will be used. This time, I want to minimize the sum of errors (regardless of whether FP or FN)."
   ]
  },
  {
   "cell_type": "code",
   "execution_count": 19,
   "id": "3b6dc4ea",
   "metadata": {},
   "outputs": [
    {
     "name": "stdout",
     "output_type": "stream",
     "text": [
      "Best threshold for the smallest sum of errors: 0.86\n"
     ]
    }
   ],
   "source": [
    "find_threshold_errors(np.arange(0.00, 1.01, 0.01), model)"
   ]
  },
  {
   "cell_type": "code",
   "execution_count": 20,
   "id": "4ded07db",
   "metadata": {},
   "outputs": [
    {
     "name": "stdout",
     "output_type": "stream",
     "text": [
      "Sum of errors (FP + FN): 71\n",
      "Accuracy: 0.999\n",
      "Precision: 0.789\n",
      "Recall: 0.577\n",
      "Specificity: 1.0\n",
      "F1 Score: 0.667\n"
     ]
    },
    {
     "data": {
      "image/png": "[encoded data removed]",
      "text/plain": [
       "<Figure size 640x480 with 1 Axes>"
      ]
     },
     "metadata": {},
     "output_type": "display_data"
    }
   ],
   "source": [
    "threshold_3 = 0.86\n",
    "predictions_3 = [0 if element < threshold_3 else 1 for element in model.predict(x_test)]\n",
    "plot_matrix(y_test, predictions_3)"
   ]
  },
  {
   "cell_type": "markdown",
   "id": "3f4defcb",
   "metadata": {},
   "source": [
    "Sum of errors is equal to 71. Logistic regression is done."
   ]
  },
  {
   "cell_type": "markdown",
   "id": "24379162",
   "metadata": {},
   "source": [
    "# Random forest\n",
    "\n",
    "Finally, the Random Forest method is tested.\n",
    "\n",
    "`n_jobs` is responsible for the number of jobs to run in parallel. `-1` means using all processors.\n",
    "\n",
    "Execution time for me is around 1.5 minute. Without `n_jobs` it's around 8 minutes."
   ]
  },
  {
   "cell_type": "code",
   "execution_count": 21,
   "id": "658dfac8",
   "metadata": {},
   "outputs": [
    {
     "name": "stdout",
     "output_type": "stream",
     "text": [
      "Execution time:  94.59939956665039\n"
     ]
    }
   ],
   "source": [
    "time_1 = time.time()\n",
    "\n",
    "model_forest = RandomForestClassifier(random_state=42, n_jobs=-1)\n",
    "model_forest = model_forest.fit(x_train, y_train)\n",
    "predictions_forest = model_forest.predict(x_test)\n",
    "\n",
    "time_2 = time.time()\n",
    "\n",
    "print(\"Execution time: \", time_2 - time_1)"
   ]
  },
  {
   "cell_type": "markdown",
   "id": "b07966ba",
   "metadata": {},
   "source": [
    "Plotted results below"
   ]
  },
  {
   "cell_type": "code",
   "execution_count": 22,
   "id": "a53c5519",
   "metadata": {},
   "outputs": [
    {
     "name": "stdout",
     "output_type": "stream",
     "text": [
      "Sum of errors (FP + FN): 30\n",
      "Accuracy: 1.0\n",
      "Precision: 0.943\n",
      "Recall: 0.805\n",
      "Specificity: 1.0\n",
      "F1 Score: 0.868\n"
     ]
    },
    {
     "data": {
      "image/png": "[encoded data removed]",
      "text/plain": [
       "<Figure size 640x480 with 1 Axes>"
      ]
     },
     "metadata": {},
     "output_type": "display_data"
    }
   ],
   "source": [
    "plot_matrix(y_test,predictions_forest)"
   ]
  },
  {
   "cell_type": "markdown",
   "id": "393d91d5",
   "metadata": {},
   "source": [
    "There is only 30 errors. That's 2 times less than the best logistic regression model.\n",
    "\n",
    "Below is tested the same fuction, with additional parameters, to decrease execution time.\n",
    "\n",
    "`n_estimators` - The number of trees in the forest.\n",
    "\n",
    "`max_depth` - The maximum depth of the tree."
   ]
  },
  {
   "cell_type": "code",
   "execution_count": 24,
   "id": "925f4731",
   "metadata": {},
   "outputs": [
    {
     "name": "stdout",
     "output_type": "stream",
     "text": [
      "Execution time:  25.641037225723267\n"
     ]
    }
   ],
   "source": [
    "time_1 = time.time()\n",
    "\n",
    "model_forest_2 = RandomForestClassifier(random_state = 42, n_jobs = -1, n_estimators=32, max_depth = 16)\n",
    "model_forest_2 = model_forest.fit(x_train,y_train)\n",
    "predictions_forest_2 = model_forest.predict(x_test)\n",
    "\n",
    "time_2 = time.time()\n",
    "\n",
    "print(\"Execution time: \", time_2 - time_1)"
   ]
  },
  {
   "cell_type": "markdown",
   "id": "c06929bb",
   "metadata": {},
   "source": [
    "Execution time is less than half a minute. Results below."
   ]
  },
  {
   "cell_type": "code",
   "execution_count": 25,
   "id": "049cc26e",
   "metadata": {},
   "outputs": [
    {
     "name": "stdout",
     "output_type": "stream",
     "text": [
      "Sum of errors (FP + FN): 33\n",
      "Accuracy: 1.0\n",
      "Precision: 0.95\n",
      "Recall: 0.772\n",
      "Specificity: 1.0\n",
      "F1 Score: 0.852\n"
     ]
    },
    {
     "data": {
      "image/png": "[encoded data removed]",
      "text/plain": [
       "<Figure size 640x480 with 1 Axes>"
      ]
     },
     "metadata": {},
     "output_type": "display_data"
    }
   ],
   "source": [
    "plot_matrix(y_test,predictions_forest_2)"
   ]
  },
  {
   "cell_type": "markdown",
   "id": "9847ada7",
   "metadata": {},
   "source": [
    "Results are a bit worse, but execution time is better."
   ]
  },
  {
   "cell_type": "markdown",
   "id": "73beb069",
   "metadata": {},
   "source": [
    "# Conclusions \n",
    "The Random Forest method (1st model) proved to be the most effective in this dataset.\n",
    "\n",
    "Model characteristics:\n",
    "\n",
    "- 94.3% of fraud cases are correctly identified (precision);\n",
    "- 19.5% of frauds are incorrectly classified as legitimate transactions (recall);\n",
    "- 86.8% effectiveness in identifying frauds (F1-score)."
   ]
  },
  {
   "cell_type": "markdown",
   "id": "2130547b",
   "metadata": {},
   "source": [
    "# Docker Connection\n",
    "\n",
    "I establish a connection with the Docker container containing the database. Using SQL, I retrieve the transactions table from the `card_fraud` database."
   ]
  },
  {
   "cell_type": "code",
   "execution_count": 27,
   "id": "4fa39e4c",
   "metadata": {},
   "outputs": [],
   "source": [
    "engine = sqlalchemy.create_engine(\"mariadb+mariadbconnector://root:%s@127.0.0.1:3308/card_fraud\" % quote_plus(\"p@ssw0rd\"))\n",
    "# quote_plus is used, because \"@\" occurs in password, and it didn't work without it\n",
    "\n",
    "with engine.begin() as conn:\n",
    "    query = sqlalchemy.text(\"SELECT * FROM transactions_details\")\n",
    "    transactions = pd.read_sql_query(query, conn)"
   ]
  },
  {
   "cell_type": "markdown",
   "id": "2795867d",
   "metadata": {},
   "source": [
    "Display the table"
   ]
  },
  {
   "cell_type": "code",
   "execution_count": 28,
   "id": "4908f6bc",
   "metadata": {},
   "outputs": [
    {
     "data": {
      "text/html": [
       "<div>\n",
       "<style scoped>\n",
       "    .dataframe tbody tr th:only-of-type {\n",
       "        vertical-align: middle;\n",
       "    }\n",
       "\n",
       "    .dataframe tbody tr th {\n",
       "        vertical-align: top;\n",
       "    }\n",
       "\n",
       "    .dataframe thead th {\n",
       "        text-align: right;\n",
       "    }\n",
       "</style>\n",
       "<table border=\"1\" class=\"dataframe\">\n",
       "  <thead>\n",
       "    <tr style=\"text-align: right;\">\n",
       "      <th></th>\n",
       "      <th>id</th>\n",
       "      <th>Time</th>\n",
       "      <th>V1</th>\n",
       "      <th>V2</th>\n",
       "      <th>V3</th>\n",
       "      <th>V4</th>\n",
       "      <th>V5</th>\n",
       "      <th>V6</th>\n",
       "      <th>V7</th>\n",
       "      <th>V8</th>\n",
       "      <th>...</th>\n",
       "      <th>V21</th>\n",
       "      <th>V22</th>\n",
       "      <th>V23</th>\n",
       "      <th>V24</th>\n",
       "      <th>V25</th>\n",
       "      <th>V26</th>\n",
       "      <th>V27</th>\n",
       "      <th>V28</th>\n",
       "      <th>Amount</th>\n",
       "      <th>Class</th>\n",
       "    </tr>\n",
       "  </thead>\n",
       "  <tbody>\n",
       "    <tr>\n",
       "      <th>0</th>\n",
       "      <td>1</td>\n",
       "      <td>39666</td>\n",
       "      <td>-5.935260</td>\n",
       "      <td>4.952580</td>\n",
       "      <td>0.119860</td>\n",
       "      <td>-2.173710</td>\n",
       "      <td>0.273927</td>\n",
       "      <td>-0.534900</td>\n",
       "      <td>2.486460</td>\n",
       "      <td>-1.942650</td>\n",
       "      <td>...</td>\n",
       "      <td>-1.662530</td>\n",
       "      <td>-0.980118</td>\n",
       "      <td>-0.139782</td>\n",
       "      <td>-0.168372</td>\n",
       "      <td>1.002020</td>\n",
       "      <td>-0.105004</td>\n",
       "      <td>1.409160</td>\n",
       "      <td>-0.358338</td>\n",
       "      <td>8.95</td>\n",
       "      <td>0</td>\n",
       "    </tr>\n",
       "    <tr>\n",
       "      <th>1</th>\n",
       "      <td>2</td>\n",
       "      <td>135639</td>\n",
       "      <td>1.895330</td>\n",
       "      <td>0.508860</td>\n",
       "      <td>-0.696972</td>\n",
       "      <td>3.807420</td>\n",
       "      <td>0.298988</td>\n",
       "      <td>-0.393361</td>\n",
       "      <td>0.258127</td>\n",
       "      <td>-0.197562</td>\n",
       "      <td>...</td>\n",
       "      <td>0.306400</td>\n",
       "      <td>0.899620</td>\n",
       "      <td>-0.006970</td>\n",
       "      <td>0.052034</td>\n",
       "      <td>0.177626</td>\n",
       "      <td>0.215902</td>\n",
       "      <td>-0.043071</td>\n",
       "      <td>-0.048397</td>\n",
       "      <td>27.08</td>\n",
       "      <td>0</td>\n",
       "    </tr>\n",
       "    <tr>\n",
       "      <th>2</th>\n",
       "      <td>3</td>\n",
       "      <td>37650</td>\n",
       "      <td>-1.193190</td>\n",
       "      <td>1.283840</td>\n",
       "      <td>1.228260</td>\n",
       "      <td>1.433260</td>\n",
       "      <td>0.071067</td>\n",
       "      <td>-0.667199</td>\n",
       "      <td>2.056660</td>\n",
       "      <td>-0.424263</td>\n",
       "      <td>...</td>\n",
       "      <td>0.038079</td>\n",
       "      <td>0.149288</td>\n",
       "      <td>-0.073241</td>\n",
       "      <td>0.704165</td>\n",
       "      <td>0.447911</td>\n",
       "      <td>-0.119020</td>\n",
       "      <td>-0.105883</td>\n",
       "      <td>0.001187</td>\n",
       "      <td>158.00</td>\n",
       "      <td>0</td>\n",
       "    </tr>\n",
       "    <tr>\n",
       "      <th>3</th>\n",
       "      <td>4</td>\n",
       "      <td>64252</td>\n",
       "      <td>-2.841140</td>\n",
       "      <td>-1.750860</td>\n",
       "      <td>1.373920</td>\n",
       "      <td>2.847720</td>\n",
       "      <td>0.906127</td>\n",
       "      <td>0.309098</td>\n",
       "      <td>-0.684485</td>\n",
       "      <td>1.040360</td>\n",
       "      <td>...</td>\n",
       "      <td>0.690891</td>\n",
       "      <td>0.646321</td>\n",
       "      <td>0.415398</td>\n",
       "      <td>-0.302572</td>\n",
       "      <td>-0.396616</td>\n",
       "      <td>0.124540</td>\n",
       "      <td>0.004519</td>\n",
       "      <td>-0.279409</td>\n",
       "      <td>220.59</td>\n",
       "      <td>0</td>\n",
       "    </tr>\n",
       "    <tr>\n",
       "      <th>4</th>\n",
       "      <td>5</td>\n",
       "      <td>30199</td>\n",
       "      <td>-0.652836</td>\n",
       "      <td>0.876966</td>\n",
       "      <td>-0.127812</td>\n",
       "      <td>-0.065732</td>\n",
       "      <td>2.082540</td>\n",
       "      <td>3.877990</td>\n",
       "      <td>-0.348853</td>\n",
       "      <td>1.418890</td>\n",
       "      <td>...</td>\n",
       "      <td>-0.153581</td>\n",
       "      <td>-0.570733</td>\n",
       "      <td>-0.063886</td>\n",
       "      <td>0.985816</td>\n",
       "      <td>-0.003125</td>\n",
       "      <td>-0.472128</td>\n",
       "      <td>0.042032</td>\n",
       "      <td>0.069742</td>\n",
       "      <td>16.13</td>\n",
       "      <td>0</td>\n",
       "    </tr>\n",
       "  </tbody>\n",
       "</table>\n",
       "<p>5 rows × 32 columns</p>\n",
       "</div>"
      ],
      "text/plain": [
       "   id    Time        V1        V2        V3        V4        V5        V6  \\\n",
       "0   1   39666 -5.935260  4.952580  0.119860 -2.173710  0.273927 -0.534900   \n",
       "1   2  135639  1.895330  0.508860 -0.696972  3.807420  0.298988 -0.393361   \n",
       "2   3   37650 -1.193190  1.283840  1.228260  1.433260  0.071067 -0.667199   \n",
       "3   4   64252 -2.841140 -1.750860  1.373920  2.847720  0.906127  0.309098   \n",
       "4   5   30199 -0.652836  0.876966 -0.127812 -0.065732  2.082540  3.877990   \n",
       "\n",
       "         V7        V8  ...       V21       V22       V23       V24       V25  \\\n",
       "0  2.486460 -1.942650  ... -1.662530 -0.980118 -0.139782 -0.168372  1.002020   \n",
       "1  0.258127 -0.197562  ...  0.306400  0.899620 -0.006970  0.052034  0.177626   \n",
       "2  2.056660 -0.424263  ...  0.038079  0.149288 -0.073241  0.704165  0.447911   \n",
       "3 -0.684485  1.040360  ...  0.690891  0.646321  0.415398 -0.302572 -0.396616   \n",
       "4 -0.348853  1.418890  ... -0.153581 -0.570733 -0.063886  0.985816 -0.003125   \n",
       "\n",
       "        V26       V27       V28  Amount  Class  \n",
       "0 -0.105004  1.409160 -0.358338    8.95      0  \n",
       "1  0.215902 -0.043071 -0.048397   27.08      0  \n",
       "2 -0.119020 -0.105883  0.001187  158.00      0  \n",
       "3  0.124540  0.004519 -0.279409  220.59      0  \n",
       "4 -0.472128  0.042032  0.069742   16.13      0  \n",
       "\n",
       "[5 rows x 32 columns]"
      ]
     },
     "execution_count": 28,
     "metadata": {},
     "output_type": "execute_result"
    }
   ],
   "source": [
    "transactions.head()"
   ]
  },
  {
   "cell_type": "markdown",
   "id": "c1cf654e",
   "metadata": {},
   "source": [
    "Below is a function that, for each record, makes predictions and adds a row to the appropriate table in the database.\n",
    "\n",
    "Note! Running the cell below requires training the first `Random Forest` model (this takes about 1.5 minutes). Commened line is responsible for 2nd model, that requires ~ 30 secs to execute."
   ]
  },
  {
   "cell_type": "code",
   "execution_count": 29,
   "id": "36935907",
   "metadata": {},
   "outputs": [],
   "source": [
    "def insert_data(transactions):\n",
    "    for i in range(len(transactions)):\n",
    "        row = None\n",
    "        predict = model_forest.predict((transactions.iloc[i:i+1, 1:31]))\n",
    "        # predict = model_forest.predict((transactions.iloc[i:i+1, 1:31]))\n",
    "        row = transactions.iloc[i:i+1, 0]\n",
    "        if predict == 0:\n",
    "            with engine.begin() as conn:\n",
    "                row.to_sql('predicted_not_fraud', conn, if_exists='append', index = False)\n",
    "        else:\n",
    "            with engine.begin() as conn:\n",
    "                row.to_sql('predicted_fraud', conn, if_exists='append', index = False)"
   ]
  },
  {
   "cell_type": "markdown",
   "id": "3905e599",
   "metadata": {},
   "source": [
    "Starting the function"
   ]
  },
  {
   "cell_type": "code",
   "execution_count": 30,
   "id": "abab337e",
   "metadata": {},
   "outputs": [
    {
     "name": "stdout",
     "output_type": "stream",
     "text": [
      "Execution time: 0.08590865135192871\n"
     ]
    }
   ],
   "source": [
    "start_time = time.time()\n",
    "insert_data(transactions.head(5))\n",
    "\n",
    "end_time = time.time()\n",
    "\n",
    "print(f\"Execution time: {end_time - start_time}\")"
   ]
  },
  {
   "cell_type": "code",
   "execution_count": 33,
   "id": "40c6f185",
   "metadata": {},
   "outputs": [
    {
     "data": {
      "text/html": [
       "<div>\n",
       "<style scoped>\n",
       "    .dataframe tbody tr th:only-of-type {\n",
       "        vertical-align: middle;\n",
       "    }\n",
       "\n",
       "    .dataframe tbody tr th {\n",
       "        vertical-align: top;\n",
       "    }\n",
       "\n",
       "    .dataframe thead th {\n",
       "        text-align: right;\n",
       "    }\n",
       "</style>\n",
       "<table border=\"1\" class=\"dataframe\">\n",
       "  <thead>\n",
       "    <tr style=\"text-align: right;\">\n",
       "      <th></th>\n",
       "      <th>id</th>\n",
       "      <th>prediction</th>\n",
       "    </tr>\n",
       "  </thead>\n",
       "  <tbody>\n",
       "    <tr>\n",
       "      <th>0</th>\n",
       "      <td>1</td>\n",
       "      <td>Not fraud</td>\n",
       "    </tr>\n",
       "    <tr>\n",
       "      <th>1</th>\n",
       "      <td>2</td>\n",
       "      <td>Not fraud</td>\n",
       "    </tr>\n",
       "    <tr>\n",
       "      <th>2</th>\n",
       "      <td>3</td>\n",
       "      <td>Not fraud</td>\n",
       "    </tr>\n",
       "    <tr>\n",
       "      <th>3</th>\n",
       "      <td>4</td>\n",
       "      <td>Not fraud</td>\n",
       "    </tr>\n",
       "    <tr>\n",
       "      <th>4</th>\n",
       "      <td>5</td>\n",
       "      <td>Not fraud</td>\n",
       "    </tr>\n",
       "  </tbody>\n",
       "</table>\n",
       "</div>"
      ],
      "text/plain": [
       "   id prediction\n",
       "0   1  Not fraud\n",
       "1   2  Not fraud\n",
       "2   3  Not fraud\n",
       "3   4  Not fraud\n",
       "4   5  Not fraud"
      ]
     },
     "execution_count": 33,
     "metadata": {},
     "output_type": "execute_result"
    }
   ],
   "source": [
    "with engine.begin() as conn:\n",
    "    query = sqlalchemy.text(\"SELECT * FROM predicted_not_fraud\")\n",
    "    test = pd.read_sql_query(query, conn)\n",
    "    \n",
    "test"
   ]
  }
 ],
 "metadata": {
  "kernelspec": {
   "display_name": "Python 3 (ipykernel)",
   "language": "python",
   "name": "python3"
  },
  "language_info": {
   "codemirror_mode": {
    "name": "ipython",
    "version": 3
   },
   "file_extension": ".py",
   "mimetype": "text/x-python",
   "name": "python",
   "nbconvert_exporter": "python",
   "pygments_lexer": "ipython3",
   "version": "3.9.18"
  }
 },
 "nbformat": 4,
 "nbformat_minor": 5
}
